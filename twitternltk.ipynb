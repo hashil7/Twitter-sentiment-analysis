{
  "cells": [
    {
      "cell_type": "markdown",
      "metadata": {
        "id": "view-in-github",
        "colab_type": "text"
      },
      "source": [
        "<a href=\"https://colab.research.google.com/github/hashil7/Twitter-sentiment-analysis/blob/main/twitternltk.ipynb\" target=\"_parent\"><img src=\"https://colab.research.google.com/assets/colab-badge.svg\" alt=\"Open In Colab\"/></a>"
      ]
    },
    {
      "cell_type": "code",
      "execution_count": null,
      "id": "624d0941-962a-4f68-9238-78a5825c094f",
      "metadata": {
        "id": "624d0941-962a-4f68-9238-78a5825c094f"
      },
      "outputs": [],
      "source": [
        "import nltk\n",
        "from os import getcwd"
      ]
    },
    {
      "cell_type": "code",
      "execution_count": null,
      "id": "1d3682df-ccbb-4151-8cbb-0b520d3b4ccc",
      "metadata": {
        "id": "1d3682df-ccbb-4151-8cbb-0b520d3b4ccc"
      },
      "outputs": [],
      "source": [
        "filePath = f\"{getcwd()}/../tmp2/\"\n",
        "nltk.data.path.append(filePath)"
      ]
    },
    {
      "cell_type": "code",
      "execution_count": null,
      "id": "ee2e24d3-2c5c-4973-bc1a-21f1458ab2e2",
      "metadata": {
        "id": "ee2e24d3-2c5c-4973-bc1a-21f1458ab2e2"
      },
      "outputs": [],
      "source": [
        "import numpy as np\n",
        "import pandas as pd\n",
        "from nltk.corpus import twitter_samples"
      ]
    },
    {
      "cell_type": "code",
      "execution_count": null,
      "id": "faa46cf9-3b57-4e3d-8076-95ee44ebceb5",
      "metadata": {
        "id": "faa46cf9-3b57-4e3d-8076-95ee44ebceb5"
      },
      "outputs": [],
      "source": [
        "import re\n",
        "import string\n",
        "import numpy as np\n",
        "from nltk.corpus import stopwords\n",
        "from nltk.stem import PorterStemmer\n",
        "from nltk.tokenize import TweetTokenizer"
      ]
    },
    {
      "cell_type": "code",
      "execution_count": null,
      "id": "83b10cb8-c7ee-4606-81eb-dc60434cb0d7",
      "metadata": {
        "id": "83b10cb8-c7ee-4606-81eb-dc60434cb0d7"
      },
      "outputs": [],
      "source": [
        "def process_tweet(tweet):\n",
        "    stemmer = PorterStemmer()\n",
        "    stopwords_english = stopwords.words('english')\n",
        "    tweet = re.sub(r'\\$\\w*', '', tweet) #removing tickers\n",
        "    tweet = re.sub(r'^RT[\\s]+', '', tweet)\n",
        "    tweet = re.sub(r'https?:\\/\\/.*[\\r\\n]*', '', tweet) # removing hyperlinks\n",
        "    tweet = re.sub(r'#', '', tweet)\n",
        "    tokenizer = TweetTokenizer(preserve_case=False, strip_handles=True,\n",
        "                               reduce_len=True)\n",
        "    tweet_tokens = tokenizer.tokenize(tweet)\n",
        "    tweets_clean = []\n",
        "    for word in tweet_tokens:\n",
        "        if (word not in stopwords_english and  # remove stopwords\n",
        "                word not in string.punctuation):  # remove punctuation\n",
        "            stem_word = stemmer.stem(word)  # stemming word\n",
        "            tweets_clean.append(stem_word)\n",
        "    return tweets_clean"
      ]
    },
    {
      "cell_type": "code",
      "execution_count": null,
      "id": "19da4d1b-60eb-410e-8587-f1a8bc9d6cbb",
      "metadata": {
        "id": "19da4d1b-60eb-410e-8587-f1a8bc9d6cbb"
      },
      "outputs": [],
      "source": [
        "def build_freqs(tweets, ys):\n",
        "    yslist = np.squeeze(ys).tolist()\n",
        "    freqs = {}\n",
        "    for y, tweet in zip(yslist, tweets):\n",
        "        for word in process_tweet(tweet):\n",
        "            pair = (word, y)\n",
        "            if pair in freqs:\n",
        "                freqs[pair] += 1\n",
        "            else:\n",
        "                freqs[pair] = 1\n",
        "    return freqs"
      ]
    },
    {
      "cell_type": "code",
      "execution_count": null,
      "id": "9945d1c2-62d6-492c-a659-c4c55537296e",
      "metadata": {
        "id": "9945d1c2-62d6-492c-a659-c4c55537296e"
      },
      "outputs": [],
      "source": [
        "all_positive_tweets = twitter_samples.strings('positive_tweets.json')\n",
        "all_negative_tweets = twitter_samples.strings('negative_tweets.json')"
      ]
    },
    {
      "cell_type": "code",
      "execution_count": null,
      "id": "5103c440-8895-4262-ae1a-0f5a0294d793",
      "metadata": {
        "id": "5103c440-8895-4262-ae1a-0f5a0294d793"
      },
      "outputs": [],
      "source": [
        "test_pos = all_positive_tweets[4000:]\n",
        "train_pos = all_positive_tweets[:4000]\n",
        "test_neg = all_negative_tweets[4000:]\n",
        "train_neg = all_negative_tweets[:4000]\n",
        "train_x = train_pos + train_neg\n",
        "test_x = test_pos + test_neg"
      ]
    },
    {
      "cell_type": "code",
      "execution_count": null,
      "id": "c92571f7-b671-44ce-9c30-ea202132f9b4",
      "metadata": {
        "id": "c92571f7-b671-44ce-9c30-ea202132f9b4"
      },
      "outputs": [],
      "source": [
        "train_y = np.append(np.ones((len(train_pos), 1)), np.zeros((len(train_neg), 1)), axis=0)\n",
        "test_y = np.append(np.ones((len(test_pos), 1)), np.zeros((len(test_neg), 1)), axis=0)"
      ]
    },
    {
      "cell_type": "code",
      "execution_count": null,
      "id": "5d508609-ba17-4941-94cc-ba5657863d75",
      "metadata": {
        "id": "5d508609-ba17-4941-94cc-ba5657863d75",
        "outputId": "9d330146-8f38-4afc-8ee1-d7c962c32636"
      },
      "outputs": [
        {
          "name": "stdout",
          "output_type": "stream",
          "text": [
            "train_y.shape = (8000, 1)\n",
            "test_y.shape = (2000, 1)\n"
          ]
        }
      ],
      "source": [
        "print(\"train_y.shape = \" + str(train_y.shape))\n",
        "print(\"test_y.shape = \" + str(test_y.shape))"
      ]
    },
    {
      "cell_type": "code",
      "execution_count": null,
      "id": "d7103b17-d36a-4b0c-8178-41ef58fd5b2f",
      "metadata": {
        "id": "d7103b17-d36a-4b0c-8178-41ef58fd5b2f",
        "outputId": "02f3f8a5-08d6-4354-bb88-dcadfd6a30b3"
      },
      "outputs": [
        {
          "name": "stdout",
          "output_type": "stream",
          "text": [
            "type(freqs) = <class 'dict'>\n",
            "len(freqs) = 11337\n"
          ]
        }
      ],
      "source": [
        "freqs = build_freqs(train_x, train_y)\n",
        "print(\"type(freqs) = \" + str(type(freqs)))\n",
        "print(\"len(freqs) = \" + str(len(freqs.keys())))"
      ]
    },
    {
      "cell_type": "code",
      "execution_count": null,
      "id": "fc4a329a-2d75-4e9f-9d5e-49ee62985163",
      "metadata": {
        "id": "fc4a329a-2d75-4e9f-9d5e-49ee62985163",
        "outputId": "9a25af27-2f21-4d32-e963-40b30c6c4b9f"
      },
      "outputs": [
        {
          "name": "stdout",
          "output_type": "stream",
          "text": [
            "This is an example of a positive tweet: \n",
            " @97sides CONGRATS :)\n",
            "\n",
            "This is an example of the processed version of the tweet: \n",
            " ['congrat', ':)']\n"
          ]
        }
      ],
      "source": [
        "print('This is an example of a positive tweet: \\n', train_x[3])\n",
        "print('\\nThis is an example of the processed version of the tweet: \\n', process_tweet(train_x[3]))"
      ]
    },
    {
      "cell_type": "code",
      "execution_count": null,
      "id": "1b8c48ee-fa6e-47ae-8f31-11b24c85a060",
      "metadata": {
        "id": "1b8c48ee-fa6e-47ae-8f31-11b24c85a060"
      },
      "outputs": [],
      "source": [
        "def sigmoid(z):\n",
        "    h = 1 / (1 + np.exp(-z))\n",
        "    return h"
      ]
    },
    {
      "cell_type": "code",
      "execution_count": null,
      "id": "8e11110a-2d08-4df3-8e2b-20af93468e87",
      "metadata": {
        "id": "8e11110a-2d08-4df3-8e2b-20af93468e87"
      },
      "outputs": [],
      "source": [
        "def gradientDescent(x, y, theta, alpha, num_iters):\n",
        "    m = len(x)\n",
        "\n",
        "    for i in range(0, num_iters):\n",
        "        z = np.dot(x, theta)\n",
        "        h = sigmoid(z)\n",
        "        J = (-1 / m) * (np.dot(y.T, np.log(h)) + np.dot((1 - y).T, np.log(1 - h)))\n",
        "        theta = theta - (alpha / m) * (np.dot(x.T, (h - y)))\n",
        "\n",
        "    J = float(J)\n",
        "    return J, theta"
      ]
    },
    {
      "cell_type": "code",
      "execution_count": null,
      "id": "226848a5-cebf-4b4d-b33e-d853f2097d41",
      "metadata": {
        "id": "226848a5-cebf-4b4d-b33e-d853f2097d41"
      },
      "outputs": [],
      "source": [
        "def extract_features(tweet, freqs):\n",
        "    word_l = process_tweet(tweet)\n",
        "    x = np.zeros((1, 3))\n",
        "    x[0,0] = 1\n",
        "    for word in word_l:\n",
        "        x[0,1] += freqs.get((word, 1.0), 0)\n",
        "        x[0,2] += freqs.get((word, 0.0), 0)\n",
        "    assert(x.shape == (1, 3))\n",
        "    return x"
      ]
    },
    {
      "cell_type": "code",
      "execution_count": null,
      "id": "86abe17f-4400-4b0d-8151-0c254bdcf8c8",
      "metadata": {
        "id": "86abe17f-4400-4b0d-8151-0c254bdcf8c8",
        "outputId": "1e7ee118-db04-445c-ac9b-7794accbba7e"
      },
      "outputs": [
        {
          "name": "stdout",
          "output_type": "stream",
          "text": [
            "The cost after training is 0.24215478.\n",
            "The resulting vector of weights is [7e-08, 0.00052391, -0.00055517]\n"
          ]
        },
        {
          "name": "stderr",
          "output_type": "stream",
          "text": [
            "C:\\Users\\admin\\AppData\\Local\\Temp\\ipykernel_18380\\1064449618.py:10: DeprecationWarning: Conversion of an array with ndim > 0 to a scalar is deprecated, and will error in future. Ensure you extract a single element from your array before performing this operation. (Deprecated NumPy 1.25.)\n",
            "  J = float(J)\n"
          ]
        }
      ],
      "source": [
        "X = np.zeros((len(train_x), 3))\n",
        "for i in range(len(train_x)):\n",
        "    X[i, :]= extract_features(train_x[i], freqs)\n",
        "Y = train_y\n",
        "J, theta = gradientDescent(X, Y, np.zeros((3, 1)), 1e-9, 1500)\n",
        "print(f\"The cost after training is {J:.8f}.\")\n",
        "print(f\"The resulting vector of weights is {[round(t, 8) for t in np.squeeze(theta)]}\")"
      ]
    },
    {
      "cell_type": "code",
      "execution_count": null,
      "id": "5e8e8971-77c5-408d-9b40-f746cddc5848",
      "metadata": {
        "id": "5e8e8971-77c5-408d-9b40-f746cddc5848"
      },
      "outputs": [],
      "source": [
        "def predict_tweet(tweet, freqs, theta):\n",
        "    x = extract_features(tweet, freqs)\n",
        "    y_pred = sigmoid(np.dot(x, theta))\n",
        "    return y_pred"
      ]
    },
    {
      "cell_type": "code",
      "execution_count": null,
      "id": "4c87e272-034c-4be9-bb9a-d2b6b1f336b0",
      "metadata": {
        "id": "4c87e272-034c-4be9-bb9a-d2b6b1f336b0"
      },
      "outputs": [],
      "source": [
        "def test_logistic_regression(test_x, test_y, freqs, theta):\n",
        "    y_hat = []\n",
        "    for tweet in test_x:\n",
        "        y_pred = predict_tweet(tweet, freqs, theta)\n",
        "        if y_pred > 0.5:\n",
        "            y_hat.append(1.0)\n",
        "        else:\n",
        "            y_hat.append(0.0)\n",
        "    accuracy = (np.asarray(y_hat) == np.squeeze(test_y)).sum() / len(test_x)\n",
        "    return accuracy"
      ]
    },
    {
      "cell_type": "code",
      "execution_count": null,
      "id": "afb154ce-7e8e-4639-8b5b-2577e5b2c74b",
      "metadata": {
        "id": "afb154ce-7e8e-4639-8b5b-2577e5b2c74b",
        "outputId": "c0cd8bbd-1c37-481f-f058-b09797757c7c"
      },
      "outputs": [
        {
          "name": "stdout",
          "output_type": "stream",
          "text": [
            "Logistic regression model's accuracy = 0.9950\n"
          ]
        }
      ],
      "source": [
        "tmp_accuracy = test_logistic_regression(test_x, test_y, freqs, theta)\n",
        "print(f\"Logistic regression model's accuracy = {tmp_accuracy:.4f}\")"
      ]
    },
    {
      "cell_type": "code",
      "execution_count": null,
      "id": "d9e33984-86fe-459d-afc3-e1f0da2e6316",
      "metadata": {
        "id": "d9e33984-86fe-459d-afc3-e1f0da2e6316",
        "outputId": "77325e57-357a-4b7e-b803-5e52781ff403"
      },
      "outputs": [
        {
          "name": "stdout",
          "output_type": "stream",
          "text": [
            "Label Predicted Tweet\n",
            "THE TWEET IS: @jaredNOTsubway @iluvmariah @Bravotv Then that truly is a LATERAL move! Now, we all know the Queen Bee is UPWARD BOUND : ) #MovingOnUp\n",
            "THE PROCESSED TWEET IS: ['truli', 'later', 'move', 'know', 'queen', 'bee', 'upward', 'bound', 'movingonup']\n",
            "1\t0.49996920\tb'truli later move know queen bee upward bound movingonup'\n"
          ]
        },
        {
          "name": "stderr",
          "output_type": "stream",
          "text": [
            "C:\\Users\\admin\\AppData\\Local\\Temp\\ipykernel_18380\\3590713043.py:8: DeprecationWarning: Conversion of an array with ndim > 0 to a scalar is deprecated, and will error in future. Ensure you extract a single element from your array before performing this operation. (Deprecated NumPy 1.25.)\n",
            "  print('%d\\t%0.8f\\t%s' % (y, y_hat, ' '.join(process_tweet(x)).encode('ascii', 'ignore')))\n"
          ]
        },
        {
          "name": "stdout",
          "output_type": "stream",
          "text": [
            "THE TWEET IS: @MarkBreech Not sure it would be good thing 4 my bottom daring 2 say 2 Miss B but Im gonna be so stubborn on mouth soaping ! #NotHavingit :p\n",
            "THE PROCESSED TWEET IS: ['sure', 'would', 'good', 'thing', '4', 'bottom', 'dare', '2', 'say', '2', 'miss', 'b', 'im', 'gonna', 'stubborn', 'mouth', 'soap', 'nothavingit', ':p']\n",
            "1\t0.48663815\tb'sure would good thing 4 bottom dare 2 say 2 miss b im gonna stubborn mouth soap nothavingit :p'\n",
            "THE TWEET IS: I'm playing Brain Dots : ) #BrainDots\n",
            "http://t.co/UGQzOx0huu\n",
            "THE PROCESSED TWEET IS: [\"i'm\", 'play', 'brain', 'dot', 'braindot']\n",
            "1\t0.48370697\tb\"i'm play brain dot braindot\"\n",
            "THE TWEET IS: I'm playing Brain Dots : ) #BrainDots http://t.co/aOKldo3GMj http://t.co/xWCM9qyRG5\n",
            "THE PROCESSED TWEET IS: [\"i'm\", 'play', 'brain', 'dot', 'braindot']\n",
            "1\t0.48370697\tb\"i'm play brain dot braindot\"\n",
            "THE TWEET IS: I'm playing Brain Dots : ) #BrainDots http://t.co/R2JBO8iNww http://t.co/ow5BBwdEMY\n",
            "THE PROCESSED TWEET IS: [\"i'm\", 'play', 'brain', 'dot', 'braindot']\n",
            "1\t0.48370697\tb\"i'm play brain dot braindot\"\n",
            "THE TWEET IS: off to the park to get some sunlight : )\n",
            "THE PROCESSED TWEET IS: ['park', 'get', 'sunlight']\n",
            "1\t0.49578796\tb'park get sunlight'\n",
            "THE TWEET IS: @msarosh Uff Itna Miss karhy thy ap :p\n",
            "THE PROCESSED TWEET IS: ['uff', 'itna', 'miss', 'karhi', 'thi', 'ap', ':p']\n",
            "1\t0.48212905\tb'uff itna miss karhi thi ap :p'\n",
            "THE TWEET IS: @phenomyoutube u probs had more fun with david than me : (\n",
            "THE PROCESSED TWEET IS: ['u', 'prob', 'fun', 'david']\n",
            "0\t0.50020391\tb'u prob fun david'\n",
            "THE TWEET IS: pats jay : (\n",
            "THE PROCESSED TWEET IS: ['pat', 'jay']\n",
            "0\t0.50039295\tb'pat jay'\n",
            "THE TWEET IS: my beloved grandmother : ( https://t.co/wt4oXq5xCf\n",
            "THE PROCESSED TWEET IS: ['belov', 'grandmoth']\n",
            "0\t0.50000002\tb'belov grandmoth'\n"
          ]
        }
      ],
      "source": [
        "print('Label Predicted Tweet')\n",
        "for x,y in zip(test_x,test_y):\n",
        "    y_hat = predict_tweet(x, freqs, theta)\n",
        "\n",
        "    if np.abs(y - (y_hat > 0.5)) > 0:\n",
        "        print('THE TWEET IS:', x)\n",
        "        print('THE PROCESSED TWEET IS:', process_tweet(x))\n",
        "        print('%d\\t%0.8f\\t%s' % (y, y_hat, ' '.join(process_tweet(x)).encode('ascii', 'ignore')))"
      ]
    },
    {
      "cell_type": "code",
      "execution_count": null,
      "id": "28ecb6f3-1b0c-42b1-9c79-827118b61171",
      "metadata": {
        "id": "28ecb6f3-1b0c-42b1-9c79-827118b61171",
        "outputId": "4f2dd1e5-689b-48b5-f3f4-b9e59548b02e"
      },
      "outputs": [
        {
          "name": "stdout",
          "output_type": "stream",
          "text": [
            "['ridicul', 'bright', 'movi', 'plot', 'good', 'happi', 'end']\n",
            "[[0.52778993]]\n",
            "Positive sentiment\n"
          ]
        }
      ],
      "source": [
        "my_tweet = 'This is a ridiculously bright movie. The plot was so good and I was happy until the ending!'\n",
        "print(process_tweet(my_tweet))\n",
        "y_hat = predict_tweet(my_tweet, freqs, theta)\n",
        "print(y_hat)\n",
        "if y_hat > 0.5:\n",
        "    print('Positive sentiment')\n",
        "else:\n",
        "    print('Negative sentiment')"
      ]
    },
    {
      "cell_type": "code",
      "execution_count": null,
      "id": "ee0dcaae-3298-4319-a0d0-375f81e1ebac",
      "metadata": {
        "id": "ee0dcaae-3298-4319-a0d0-375f81e1ebac"
      },
      "outputs": [],
      "source": [
        "def train_naive_bayes(freqs, train_x, train_y):\n",
        "    loglikelihood = {}\n",
        "    logprior = 0\n",
        "    vocab = set([pair[0] for pair in freqs.keys()])\n",
        "    V = len(vocab)\n",
        "\n",
        "    N_pos = N_neg = 0\n",
        "    for pair in freqs.keys():\n",
        "        # if the label is positive (greater than zero)\n",
        "        if pair[1] > 0:\n",
        "            N_pos += freqs[pair]\n",
        "        else:\n",
        "            N_neg += freqs[pair]\n",
        "    D = len(train_y)\n",
        "    D_pos = len(list(filter(lambda x: x > 0, train_y)))\n",
        "    D_neg = len(list(filter(lambda x: x <= 0, train_y)))\n",
        "    logprior = np.log(D_pos) - np.log(D_neg)\n",
        "    for word in vocab:\n",
        "        freq_pos = lookup(freqs, word, 1)\n",
        "        freq_neg = lookup(freqs, word, 0)\n",
        "        p_w_pos = (freq_pos + 1) / (N_pos + V)\n",
        "        p_w_neg = (freq_neg + 1) / (N_neg + V)\n",
        "        loglikelihood[word] = np.log(p_w_pos / p_w_neg)\n",
        "    return logprior, loglikelihood"
      ]
    },
    {
      "cell_type": "code",
      "execution_count": null,
      "id": "b258ef8d-4fd6-42be-83a0-c5bd538a776e",
      "metadata": {
        "id": "b258ef8d-4fd6-42be-83a0-c5bd538a776e"
      },
      "outputs": [],
      "source": [
        "def lookup(freqs, word, label):\n",
        "    n = 0\n",
        "    pair = (word, label)\n",
        "    if (pair in freqs):\n",
        "        n = freqs[pair]\n",
        "    return n"
      ]
    },
    {
      "cell_type": "code",
      "execution_count": null,
      "id": "a7338f57-22a6-46a8-ad1d-63f9e82a6e85",
      "metadata": {
        "id": "a7338f57-22a6-46a8-ad1d-63f9e82a6e85",
        "outputId": "0bca7710-7319-4e13-8618-a7256dcb4e55"
      },
      "outputs": [
        {
          "name": "stdout",
          "output_type": "stream",
          "text": [
            "0.0\n",
            "9085\n"
          ]
        }
      ],
      "source": [
        "logprior, loglikelihood = train_naive_bayes(freqs, train_x, train_y)\n",
        "print(logprior)\n",
        "print(len(loglikelihood))"
      ]
    },
    {
      "cell_type": "code",
      "execution_count": null,
      "id": "39bbc154-6387-48d5-b5bd-026d7cca5eb5",
      "metadata": {
        "id": "39bbc154-6387-48d5-b5bd-026d7cca5eb5"
      },
      "outputs": [],
      "source": [
        "def naive_bayes_predict(tweet, logprior, loglikelihood):\n",
        "    word_l = process_tweet(tweet)\n",
        "    p = 0\n",
        "    p += logprior\n",
        "\n",
        "    for word in word_l:\n",
        "        if word in loglikelihood:\n",
        "            p += loglikelihood[word]\n",
        "    return p"
      ]
    },
    {
      "cell_type": "code",
      "execution_count": null,
      "id": "24340aef-f42a-40bf-8646-4e4c09e0c0aa",
      "metadata": {
        "id": "24340aef-f42a-40bf-8646-4e4c09e0c0aa",
        "outputId": "1a48bf3f-c5cb-472b-f125-0f42f64929ee"
      },
      "outputs": [
        {
          "name": "stdout",
          "output_type": "stream",
          "text": [
            "The expected output is 3.0306928564364277\n"
          ]
        }
      ],
      "source": [
        "my_tweet = 'Hello today is a good day.'\n",
        "p = naive_bayes_predict(my_tweet, logprior, loglikelihood)\n",
        "print('The expected output is', p)"
      ]
    },
    {
      "cell_type": "code",
      "execution_count": null,
      "id": "bccb572e-cbd5-421c-9f86-6eca4d5d6933",
      "metadata": {
        "id": "bccb572e-cbd5-421c-9f86-6eca4d5d6933"
      },
      "outputs": [],
      "source": [
        "def test_naive_bayes(test_x, test_y, logprior, loglikelihood):\n",
        "    accuracy = 0\n",
        "    y_hats = []\n",
        "    for tweet in test_x:\n",
        "        if naive_bayes_predict(tweet, logprior, loglikelihood) > 0:\n",
        "            y_hat_i = 1\n",
        "        else:\n",
        "            y_hat_i = 0\n",
        "        y_hats.append(y_hat_i)\n",
        "    error = np.mean(np.absolute(y_hats - test_y))\n",
        "    accuracy = 1 - error\n",
        "    return accuracy"
      ]
    },
    {
      "cell_type": "code",
      "execution_count": null,
      "id": "d00e5ad9-ba73-4676-b374-7afaffe5aeaa",
      "metadata": {
        "id": "d00e5ad9-ba73-4676-b374-7afaffe5aeaa",
        "outputId": "ea8a5fef-cc75-4243-f2e4-299cfd768ef3"
      },
      "outputs": [
        {
          "name": "stdout",
          "output_type": "stream",
          "text": [
            "Naive Bayes accuracy = 0.5000\n"
          ]
        }
      ],
      "source": [
        "print(\"Naive Bayes accuracy = %0.4f\" %\n",
        "      (test_naive_bayes(test_x, test_y, logprior, loglikelihood)))"
      ]
    },
    {
      "cell_type": "code",
      "execution_count": null,
      "id": "90f7a5be-7866-4af9-98da-babeea65c10a",
      "metadata": {
        "id": "90f7a5be-7866-4af9-98da-babeea65c10a",
        "outputId": "e1e4e21f-a936-488f-bb32-c95527264cf9"
      },
      "outputs": [
        {
          "name": "stdout",
          "output_type": "stream",
          "text": [
            "I am happy -> 2.15\n",
            "I am bad -> -1.29\n",
            "this movie should have been great. -> 2.14\n",
            "great -> 2.14\n",
            "great great -> 4.28\n",
            "great great great -> 6.41\n",
            "great great great great -> 8.55\n"
          ]
        }
      ],
      "source": [
        "# UNQ_C7 (UNIQUE CELL IDENTIFIER, DO NOT EDIT)\n",
        "# You do not have to input any code in this cell, but it is relevant to grading, so please do not change anything\n",
        "\n",
        "# Run this cell to test your function\n",
        "for tweet in ['I am happy', 'I am bad', 'this movie should have been great.', 'great', 'great great', 'great great great', 'great great great great']:\n",
        "    # print( '%s -> %f' % (tweet, naive_bayes_predict(tweet, logprior, loglikelihood)))\n",
        "    p = naive_bayes_predict(tweet, logprior, loglikelihood)\n",
        "#     print(f'{tweet} -> {p:.2f} ({p_category})')\n",
        "    print(f'{tweet} -> {p:.2f}')"
      ]
    },
    {
      "cell_type": "code",
      "execution_count": null,
      "id": "2bff90fd-183d-4b23-b121-2a6dc4b11b70",
      "metadata": {
        "id": "2bff90fd-183d-4b23-b121-2a6dc4b11b70",
        "outputId": "911aca6f-bff4-420e-f3ad-0b30e0b3304a"
      },
      "outputs": [
        {
          "name": "stdout",
          "output_type": "stream",
          "text": [
            "Truth Predicted Tweet\n",
            "1\t0.00\tb''\n",
            "1\t0.00\tb'truli later move know queen bee upward bound movingonup'\n"
          ]
        },
        {
          "name": "stderr",
          "output_type": "stream",
          "text": [
            "C:\\Users\\admin\\AppData\\Local\\Temp\\ipykernel_18380\\3146146745.py:5: DeprecationWarning: Conversion of an array with ndim > 0 to a scalar is deprecated, and will error in future. Ensure you extract a single element from your array before performing this operation. (Deprecated NumPy 1.25.)\n",
            "  print('%d\\t%0.2f\\t%s' % (y, np.sign(y_hat) > 0, ' '.join(\n"
          ]
        },
        {
          "name": "stdout",
          "output_type": "stream",
          "text": [
            "1\t0.00\tb'new report talk burn calori cold work harder warm feel better weather :p'\n",
            "1\t0.00\tb'harri niall 94 harri born ik stupid wanna chang :d'\n",
            "1\t0.00\tb''\n",
            "1\t0.00\tb''\n",
            "1\t0.00\tb'park get sunlight'\n",
            "1\t0.00\tb'uff itna miss karhi thi ap :p'\n",
            "0\t1.00\tb'hello info possibl interest jonatha close join beti :( great'\n",
            "0\t1.00\tb'u prob fun david'\n",
            "0\t1.00\tb'pat jay'\n",
            "0\t1.00\tb'whatev stil l young >:-('\n"
          ]
        }
      ],
      "source": [
        "print('Truth Predicted Tweet')\n",
        "for x, y in zip(test_x, test_y):\n",
        "    y_hat = naive_bayes_predict(x, logprior, loglikelihood)\n",
        "    if y != (np.sign(y_hat) > 0):\n",
        "        print('%d\\t%0.2f\\t%s' % (y, np.sign(y_hat) > 0, ' '.join(\n",
        "            process_tweet(x)).encode('ascii', 'ignore')))"
      ]
    },
    {
      "cell_type": "code",
      "execution_count": null,
      "id": "574bb107-849d-42d3-a09a-bceddc7e460d",
      "metadata": {
        "id": "574bb107-849d-42d3-a09a-bceddc7e460d",
        "outputId": "319125dc-64df-4c56-ef61-614a55f0f7b1"
      },
      "outputs": [
        {
          "name": "stdout",
          "output_type": "stream",
          "text": [
            "9.57385883169329\n"
          ]
        }
      ],
      "source": [
        "my_tweet = 'I am happy because I am learning :)'\n",
        "\n",
        "p = naive_bayes_predict(my_tweet, logprior, loglikelihood)\n",
        "print(p)"
      ]
    },
    {
      "cell_type": "code",
      "execution_count": null,
      "id": "8261a939-ab45-4178-bac1-3f9ad77b532a",
      "metadata": {
        "id": "8261a939-ab45-4178-bac1-3f9ad77b532a"
      },
      "outputs": [],
      "source": []
    }
  ],
  "metadata": {
    "kernelspec": {
      "display_name": "Python 3 (ipykernel)",
      "language": "python",
      "name": "python3"
    },
    "language_info": {
      "codemirror_mode": {
        "name": "ipython",
        "version": 3
      },
      "file_extension": ".py",
      "mimetype": "text/x-python",
      "name": "python",
      "nbconvert_exporter": "python",
      "pygments_lexer": "ipython3",
      "version": "3.11.7"
    },
    "colab": {
      "provenance": [],
      "include_colab_link": true
    }
  },
  "nbformat": 4,
  "nbformat_minor": 5
}